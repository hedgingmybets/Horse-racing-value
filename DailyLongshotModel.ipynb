{
  "nbformat": 4,
  "nbformat_minor": 0,
  "metadata": {
    "colab": {
      "provenance": [],
      "authorship_tag": "ABX9TyOMaGrBHLuyY/mVFkHxpZja",
      "include_colab_link": true
    },
    "kernelspec": {
      "name": "python3",
      "display_name": "Python 3"
    },
    "language_info": {
      "name": "python"
    }
  },
  "cells": [
    {
      "cell_type": "markdown",
      "metadata": {
        "id": "view-in-github",
        "colab_type": "text"
      },
      "source": [
        "<a href=\"https://colab.research.google.com/github/hedgingmybets/Horse-racing-value/blob/main/DailyLongshotModel.ipynb\" target=\"_parent\"><img src=\"https://colab.research.google.com/assets/colab-badge.svg\" alt=\"Open In Colab\"/></a>"
      ]
    },
    {
      "cell_type": "code",
      "source": [
        "!pip install xgboost reportlab"
      ],
      "metadata": {
        "colab": {
          "base_uri": "https://localhost:8080/"
        },
        "id": "Z0yugyDAMqLM",
        "outputId": "fb654504-c768-4541-a99a-71dd690b2a16"
      },
      "execution_count": 9,
      "outputs": [
        {
          "output_type": "stream",
          "name": "stdout",
          "text": [
            "Requirement already satisfied: xgboost in /usr/local/lib/python3.12/dist-packages (3.0.5)\n",
            "Requirement already satisfied: reportlab in /usr/local/lib/python3.12/dist-packages (4.4.4)\n",
            "Requirement already satisfied: numpy in /usr/local/lib/python3.12/dist-packages (from xgboost) (2.0.2)\n",
            "Requirement already satisfied: nvidia-nccl-cu12 in /usr/local/lib/python3.12/dist-packages (from xgboost) (2.27.3)\n",
            "Requirement already satisfied: scipy in /usr/local/lib/python3.12/dist-packages (from xgboost) (1.16.2)\n",
            "Requirement already satisfied: pillow>=9.0.0 in /usr/local/lib/python3.12/dist-packages (from reportlab) (11.3.0)\n",
            "Requirement already satisfied: charset-normalizer in /usr/local/lib/python3.12/dist-packages (from reportlab) (3.4.3)\n"
          ]
        }
      ]
    },
    {
      "cell_type": "code",
      "source": [
        "import pandas as pd, numpy as np, re, xgboost as xgb\n",
        "from reportlab.lib.pagesizes import landscape, A4\n",
        "from reportlab.platypus import SimpleDocTemplate, Table, TableStyle, Paragraph, Spacer\n",
        "from reportlab.lib import colors\n",
        "from reportlab.lib.styles import getSampleStyleSheet\n",
        "\n",
        "# === Paths ===\n",
        "MODEL_PATH = \"/content/xgboost_longshot.model\"   # upload once, reuse daily\n",
        "DATA_PATH  = \"/content/racedata-2025-10-01.csv\"  # replace with today’s file name\n",
        "\n",
        "# === Features used in training ===\n",
        "FEATURES = [\n",
        "    \"PR Rank\",\"VDW Rank\",\"SHorBES\",\"Class Par\",\"ClassEdge\",\n",
        "    \"SClGR\",\"SClLr4\",\"ACSPCLTD\",\"SPDFIGLrAdj\",\"Horse Strength\",\n",
        "    \"Trainer Win Rate in Last 14 Days\",\"Jockey Win Rate in Last 14 Days\",\n",
        "    \"CDflag\",\"Top4Count\"\n",
        "]"
      ],
      "metadata": {
        "id": "Tfp27amTMsX7"
      },
      "execution_count": null,
      "outputs": []
    },
    {
      "cell_type": "code",
      "source": [
        "# Distance parser (robust for m/f/y)\n",
        "def parse_distance(val):\n",
        "    if pd.isna(val): return np.nan\n",
        "    s = str(val).lower().replace(\"½\",\"0.5\").replace(\"¼\",\"0.25\").replace(\"¾\",\"0.75\")\n",
        "    miles = re.search(r\"(\\d+)m\", s)\n",
        "    furlongs = re.search(r\"(\\d+)f\", s)\n",
        "    yards = re.search(r\"(\\d+)y\", s)\n",
        "    m = float(miles.group(1)) * 8 if miles else 0\n",
        "    f = float(furlongs.group(1)) if furlongs else 0\n",
        "    y = float(yards.group(1))/220 if yards else 0\n",
        "    return m+f+y\n",
        "\n",
        "def prepare_df(df):\n",
        "    # Numeric conversions\n",
        "    for col in FEATURES:\n",
        "        if col in df.columns:\n",
        "            df[col] = pd.to_numeric(df[col].astype(str).str.replace(\"%\",\"\"), errors=\"coerce\")\n",
        "\n",
        "    # Derived features\n",
        "    df[\"ClassEdge\"] = df.get(\"SHorBES\",0) - df.get(\"Class Par\",0)\n",
        "    df[\"CDflag\"] = df.get(\"Course Distance Winner\",\"\").astype(str).str.contains(\"Course|Distance\",case=False).astype(int)\n",
        "    def count_top4(s):\n",
        "        if pd.isna(s): return 0\n",
        "        return sum(ch in \"1234\" for ch in str(s)[:6])\n",
        "    df[\"Top4Count\"] = df.get(\"Last 6 Form Figs\",\"\").apply(count_top4)\n",
        "    df[\"DistanceF\"] = df.get(\"Distance\",\"\").apply(parse_distance)\n",
        "    return df"
      ],
      "metadata": {
        "id": "lmFyWFpZMyZq"
      },
      "execution_count": null,
      "outputs": []
    },
    {
      "cell_type": "code",
      "source": [
        "# Load model\n",
        "bst = xgb.Booster()\n",
        "bst.load_model(MODEL_PATH)\n",
        "\n",
        "# Load race data\n",
        "df = pd.read_csv(DATA_PATH)\n",
        "df = prepare_df(df)"
      ],
      "metadata": {
        "id": "KlX8UZ5aM4RA"
      },
      "execution_count": null,
      "outputs": []
    },
    {
      "cell_type": "code",
      "source": [
        "df[\"Probability\"] = bst.inplace_predict(xgb.DMatrix(df[FEATURES].fillna(0).astype(\"float32\")))\n",
        "\n",
        "# Apply locked-in rules\n",
        "mask = (\n",
        "    df[\"Classifications\"].str.contains(\"handicap\",case=False,na=False) &\n",
        "    ~df[\"Classifications\"].str.contains(\"nursery|apprentice|conditional\",case=False,na=False) &\n",
        "    (df[\"DistanceF\"] < 14) &\n",
        "    (df[\"Runners\"].fillna(0) <= 15) &\n",
        "    df[\"Class\"].between(2,6, inclusive=\"both\") &\n",
        "    (df[\"CDflag\"] == 1) &\n",
        "    (pd.to_numeric(df[\"Trainer Win Rate in Last 14 Days\"], errors=\"coerce\").fillna(0) >= 5) &\n",
        "    ((df[\"Last Winning Class\"].notna()) | (df[\"SHorBES\"] >= df[\"Class Par\"]))\n",
        ")\n",
        "\n",
        "shortlist = df[mask & (df[\"Probability\"] >= 0.58)].copy()\n",
        "shortlist = shortlist.sort_values([\"Time\",\"Course\",\"Probability\"], ascending=[True,True,False])"
      ],
      "metadata": {
        "id": "dML9zHu0M8sX"
      },
      "execution_count": null,
      "outputs": []
    },
    {
      "cell_type": "code",
      "source": [
        "diagnostics = {\n",
        "    \"Total runners\": len(df),\n",
        "    \"Handicaps only\": mask.sum(),\n",
        "    \"Final shortlist\": len(shortlist),\n",
        "    \"≥0.70 band\": (shortlist[\"Probability\"]>=0.70).sum(),\n",
        "    \"0.60–0.69 band\": ((shortlist[\"Probability\"]>=0.60)&(shortlist[\"Probability\"]<0.70)).sum(),\n",
        "    \"0.55–0.59 band\": ((shortlist[\"Probability\"]>=0.55)&(shortlist[\"Probability\"]<0.60)).sum(),\n",
        "}\n",
        "diagnostics"
      ],
      "metadata": {
        "id": "7Wx2Ztf3NBCT"
      },
      "execution_count": null,
      "outputs": []
    },
    {
      "cell_type": "code",
      "source": [
        "pdf_path = \"/content/Longshot_Selections.pdf\"\n",
        "csv_path = \"/content/Longshot_Selections.csv\"\n",
        "\n",
        "# Save CSV\n",
        "shortlist.to_csv(csv_path, index=False)\n",
        "\n",
        "# Save PDF\n",
        "doc = SimpleDocTemplate(pdf_path, pagesize=landscape(A4))\n",
        "styles = getSampleStyleSheet()\n",
        "elements = [Paragraph(\"XGBoost Longshot Model — Daily Selections\", styles[\"Title\"]), Spacer(1,12)]\n",
        "\n",
        "if not shortlist.empty:\n",
        "    table_data = [[\"Time\",\"Course\",\"Horse\",\"Probability\",\"Advisory Odds\"]]\n",
        "    for _,r in shortlist.iterrows():\n",
        "        if r[\"Probability\"] >= 0.70: band=\"No minimum\"\n",
        "        elif r[\"Probability\"] >= 0.60: band=\"≥15/1\"\n",
        "        elif r[\"Probability\"] >= 0.55: band=\"≥20/1\"\n",
        "        else: band=\"Discard\"\n",
        "        table_data.append([r.get(\"Time\",\"\"),r.get(\"Course\",\"\"),r.get(\"Horse\",\"\"),f\"{r['Probability']:.2f}\",band])\n",
        "    tbl = Table(table_data, repeatRows=1)\n",
        "    tbl.setStyle(TableStyle([\n",
        "        (\"BACKGROUND\",(0,0),(-1,0),colors.grey),\n",
        "        (\"TEXTCOLOR\",(0,0),(-1,0),colors.whitesmoke),\n",
        "        (\"ALIGN\",(0,0),(-1,-1),\"CENTER\"),\n",
        "        (\"GRID\",(0,0),(-1,-1),0.5,colors.black)\n",
        "    ]))\n",
        "    elements.append(tbl)\n",
        "else:\n",
        "    elements.append(Paragraph(\"No qualifying runners today\", styles[\"Normal\"]))\n",
        "\n",
        "doc.build(elements)\n",
        "\n",
        "(pdf_path, csv_path, shortlist[[\"Time\",\"Course\",\"Horse\",\"Probability\"]])"
      ],
      "metadata": {
        "id": "RInVxU4SNFsX"
      },
      "execution_count": null,
      "outputs": []
    }
  ]
}